{
 "cells": [
  {
   "cell_type": "raw",
   "id": "aa43006a",
   "metadata": {},
   "source": [
    "---\n",
    "title: \"Digit generation using a GAN\"\n",
    "author: \"Tobias Averbeck\"\n",
    "date: \"2023-10-03\"\n",
    "execute: \n",
    "  enabled: false\n",
    "format:\n",
    "  html:\n",
    "    code-fold: false\n",
    "jupyter: python3 \n",
    "---"
   ]
  },
  {
   "cell_type": "markdown",
   "id": "ed9998a6b7ba6cc4",
   "metadata": {},
   "source": [
    "The last blog post was about digit recognition, this time we try to generate some ourselves, for this purpose GANs, generative adversarial networks, are suitable. There are other possible types of AI for image generation, for example variational autoencoders (VAEs) or PixelCNN, but GANs are popular, so there are plenty of resources and tools available.\n",
    "\n",
    "The basic idea of GANs is to have two neural networks, a generator and a discriminator, that compete against each other. The generator tries to generate images that are as similar as possible to the training data, while the discriminator tries to distinguish between real and fake images. The generator is trained to fool the discriminator, while the discriminator is trained to not be fooled by the generator.\n",
    "\n",
    "So as a beginner the idea of two networks competing is really interesting and learning GANs opens the door to many advanced applications beyond digit generation like image-to-image translation (e.g. photos into paintings), image-sharpening, art generation and much more.\n",
    "\n",
    "So starting with the code, the first new thing is the normalization. As the models we use get more complex, normalization is recommended and generally makes the training more stable, so we will use it from now on. By scaling input values to a small range (in this case, between -1 and 1), it ensures that no particular feature dominates the training due to its scale. This can help the optimizer converge faster.\n",
    "\n",
    "*transforms.ToTensor()* converts the image from a PIL format (which is how the images are loaded by default) into a PyTorch tensor.\n",
    "transforms. Normalize((0.5,), (0.5,)) normalizes the image tensor. The first tuple, (0.5,), is the mean, and the second tuple, (0.5,), is the standard deviation. \n",
    "\n",
    "For greyscale images like MNIST, the mean and standard deviation are provided as single values. For RGB images, they would be provided as three values, e.g., (0.5, 0.5, 0.5).\n",
    "\n",
    "Specifically for GANs there are some additional advantages using normalization: The interplay of the two networks, where the output from network serves as the input for the other network can lead to unstable training dynamics if the data isn't normalized. Also we will use the tanh activation function on the generator's output layer, which outputs values in the range of [-1, 1]. By normalizing the real data to this range, we ensure that the generated data and real data are in the same value range. This consistency makes the discriminator's task of distinguishing real from fake more about the content and style of the images rather than arbitrary scale differences.\n"
   ]
  },
  {
   "cell_type": "code",
   "execution_count": 2,
   "id": "f81bcfd9cd8e33c4",
   "metadata": {},
   "outputs": [],
   "source": [
    "import torch\n",
    "from torchvision import transforms\n",
    "\n",
    "# Check if CUDA is available, else use CPU\n",
    "device = torch.device(\"cuda\" if torch.cuda.is_available() else \"cpu\")\n",
    "\n",
    "# Data transformation (Normalization)\n",
    "transform = transforms.Compose([transforms.ToTensor(),\n",
    "                                transforms.Normalize((0.5,), (0.5,))])"
   ]
  },
  {
   "cell_type": "markdown",
   "id": "37638dc81a909c52",
   "metadata": {},
   "source": [
    "Additionally, I found out that you can download various datasets directly via PyTorch (and also Tensorflow), which makes my previous more cumbersome method obsolete and now we can download everything with one line."
   ]
  },
  {
   "cell_type": "code",
   "execution_count": 3,
   "id": "6c28814f30b58e7d",
   "metadata": {},
   "outputs": [],
   "source": [
    "from torchvision import datasets\n",
    "\n",
    "# Load MNIST dataset\n",
    "train_dataset = datasets.MNIST(root='./data', train=True, download=True, transform=transform)"
   ]
  },
  {
   "cell_type": "markdown",
   "id": "a77f7d053bba8ccd",
   "metadata": {},
   "source": [
    "This time we'll take a larger batch size than last time, since I have a relatively good GPU (RTX 2070 Super with 8 GB). 128 is a common choice and it is again a power of 2 (It was also recommende in the original DCGAN Paper by Radford et. al -  \t\n",
    "https://doi.org/10.48550/arXiv.1511.06434). Using powers of 2 for batch size is a common practice due to how memory is allocated and accessed in computers."
   ]
  },
  {
   "cell_type": "code",
   "execution_count": 4,
   "id": "4c631bc22d8c276d",
   "metadata": {},
   "outputs": [],
   "source": [
    "from torch.utils.data import DataLoader\n",
    "\n",
    "# Create DataLoader for training data\n",
    "batch_size = 128\n",
    "train_loader = DataLoader(train_dataset, batch_size=batch_size, shuffle=True)"
   ]
  },
  {
   "cell_type": "markdown",
   "id": "1003bdb4fdef2b66",
   "metadata": {},
   "source": [
    "For the structure of the GAN we first take a typical feed-forward network to produce a first prediction. for the false images we need a \"random noise vector\" which we initiate with a size of 100. The noise vector serves as a seed or starting point for generation. The generator's job is to expand (which we do step-wise with the sequential fully-connected layers) and transform this seed into a meaningful image representation. The latent space (of size z_dim) is typically much smaller than the image space to ensure that the generator learns a compact representation of the data. This compactness forces the generator to capture the most significant variations in the dataset."
   ]
  },
  {
   "cell_type": "code",
   "execution_count": 5,
   "id": "2406fbf4efab2e57",
   "metadata": {},
   "outputs": [],
   "source": [
    "import torch.nn as nn\n",
    "\n",
    "# Generator network\n",
    "class Generator(nn.Module):\n",
    "    def __init__(self, z_dim=100, img_dim=784):\n",
    "        super(Generator, self).__init__()\n",
    "\n",
    "        # Fully Connected Layers\n",
    "        self.linear1 = nn.Linear(z_dim, 128)\n",
    "        self.linear2 = nn.Linear(128, 256)\n",
    "        self.linear3 = nn.Linear(256, 512)\n",
    "        self.linear4 = nn.Linear(512, img_dim)\n",
    "        \n",
    "        # Activation functions\n",
    "        self.leaky_relu = nn.LeakyReLU(0.01)\n",
    "        self.tanh = nn.Tanh() # To bring the generated values between [-1, 1] as we normalized our images to this range\n",
    "        \n",
    "    def forward(self, x): \n",
    "        x = self.leaky_relu(self.linear1(x))\n",
    "        x = self.leaky_relu(self.linear2(x))\n",
    "        x = self.leaky_relu(self.linear3(x))\n",
    "        x = self.tanh(self.linear4(x))\n",
    "        \n",
    "        return x\n",
    "        "
   ]
  },
  {
   "cell_type": "markdown",
   "id": "7ac084590bad3dda",
   "metadata": {},
   "source": [
    "In contrast to the generator the discriminator is built exactly the other way around. Here the layers get consequently smaller until we end up with a value between 0 and 1 by the sigmoid function, which represents the probability that the input image is real."
   ]
  },
  {
   "cell_type": "code",
   "execution_count": 6,
   "id": "4072b0bacfdf2c1f",
   "metadata": {},
   "outputs": [],
   "source": [
    "# Define the Discriminator network\n",
    "class Discriminator(nn.Module):\n",
    "    def __init__(self, img_dim=784):\n",
    "        super(Discriminator, self).__init__()\n",
    "        \n",
    "        # Fully Connected Layers\n",
    "        self.linear1 = nn.Linear(img_dim, 512)\n",
    "        self.linear2 = nn.Linear(512, 256)\n",
    "        self.linear3 = nn.Linear(256, 128)\n",
    "        self.linear4 = nn.Linear(128, 1)\n",
    "        \n",
    "        # Activation functions\n",
    "        self.leaky_relu = nn.LeakyReLU(0.01)\n",
    "        self.sigmoid = nn.Sigmoid() # To bring the output values between [0, 1] indicating the probability of being real\n",
    "        \n",
    "    def forward(self, x):\n",
    "        x = self.leaky_relu(self.linear1(x))\n",
    "        x = self.leaky_relu(self.linear2(x))\n",
    "        x = self.leaky_relu(self.linear3(x))\n",
    "        x = self.sigmoid(self.linear4(x))\n",
    "        \n",
    "        return x"
   ]
  },
  {
   "cell_type": "markdown",
   "id": "fb82dcfe52a1f205",
   "metadata": {},
   "source": [
    "Now we push the models to the GPU. For the loss we use the Binary Cross Entropy Loss, as the discriminator is essentially a binary classifier (real vs. fake), so this loss function is suitable for our case. It computes the cross-entropy between the predicted probabilities and the true labels. The specific choice of 0.0002 is a common default for GANs (see Radford et. al).\n",
    "We also use label smoothing, so instead of using hard labels of 1 for real images and 0 for fake, label smoothing uses slightly different values. **real_labels = 0.9** means real images will have a label of 0.9 instead of 1. This technique can make the discriminator's job slightly harder, preventing it from becoming too confident and aiding in stabilizing GAN training."
   ]
  },
  {
   "cell_type": "code",
   "execution_count": 7,
   "id": "535495c281df50a1",
   "metadata": {},
   "outputs": [],
   "source": [
    "import torch.optim as optim\n",
    "\n",
    "# Instantiate the Generator and Discriminator networks\n",
    "gen = Generator().to(device)\n",
    "disc = Discriminator().to(device)\n",
    "\n",
    "# Define the loss and optimizers\n",
    "criterion = nn.BCELoss()\n",
    "\n",
    "lr = 0.0002\n",
    "gen_optimizer = optim.Adam(gen.parameters(), lr=lr)\n",
    "disc_optimizer = optim.Adam(disc.parameters(), lr=lr)\n",
    "\n",
    "# Number of epochs\n",
    "n_epochs = 50\n",
    "# Length of the latent vector (Random noise)\n",
    "z_dim = 100\n",
    "# Label smoothing\n",
    "real_labels = 0.9\n",
    "fake_labels = 0"
   ]
  },
  {
   "cell_type": "markdown",
   "id": "de93eabad8cf2806",
   "metadata": {},
   "source": [
    "Now let's break down the training loop: The fist part is the training of the discriminator. *real_data* contains the actual images from the MNIST dataset, and *_* represents the true labels, which are ignored here since GANs are unsupervised. The discriminator is passed real images, and it outputs a probability score indicating if each image is real or fake. The loss is calculated by comparing the discriminator's predictions (*real_preds*) with the true labels (which are close to 1 due to label smoothing). Then we generate the random noise vector and pass it through the generator to produce fake images and let the discriminator classify them. The loss is calculated by comparing the discriminator's predictions with the true labels for fake images (which are 0). The total loss for the discriminator is the sum of the loss for real and fake images.\n",
    "The next part is the training of the generator. Again, fake images are generated using the generator, though when computing the loss for the generator, the aim is to \"fool\" the discriminator. Hence, the target labels are ones (indicating real images). If the discriminator believes the fake images are real, the generator is doing a good job "
   ]
  },
  {
   "cell_type": "code",
   "execution_count": 8,
   "id": "6e6b4a3351a27a32",
   "metadata": {},
   "outputs": [
    {
     "name": "stdout",
     "output_type": "stream",
     "text": [
      "Epoch [1/50] Loss D: 0.642920196056366, Loss G: 2.6018149852752686\n",
      "Epoch [2/50] Loss D: 0.49951082468032837, Loss G: 2.7322940826416016\n",
      "Epoch [3/50] Loss D: 0.4253237247467041, Loss G: 4.336671352386475\n",
      "Epoch [4/50] Loss D: 0.49214255809783936, Loss G: 3.488773822784424\n",
      "Epoch [5/50] Loss D: 0.44492125511169434, Loss G: 3.247403621673584\n",
      "Epoch [6/50] Loss D: 0.4901518225669861, Loss G: 8.406545639038086\n",
      "Epoch [7/50] Loss D: 0.42955657839775085, Loss G: 3.5317835807800293\n",
      "Epoch [8/50] Loss D: 0.3431251049041748, Loss G: 9.27466106414795\n",
      "Epoch [9/50] Loss D: 0.3978242874145508, Loss G: 4.168121337890625\n",
      "Epoch [10/50] Loss D: 0.46336668729782104, Loss G: 5.9529242515563965\n",
      "Epoch [11/50] Loss D: 0.45307400822639465, Loss G: 4.722975730895996\n",
      "Epoch [12/50] Loss D: 0.46993932127952576, Loss G: 3.670745372772217\n",
      "Epoch [13/50] Loss D: 0.40898290276527405, Loss G: 7.936224937438965\n",
      "Epoch [14/50] Loss D: 0.5095274448394775, Loss G: 6.976125240325928\n",
      "Epoch [15/50] Loss D: 0.5968165397644043, Loss G: 5.684843063354492\n",
      "Epoch [16/50] Loss D: 0.39158928394317627, Loss G: 5.967150688171387\n",
      "Epoch [17/50] Loss D: 0.4675975739955902, Loss G: 6.372878074645996\n",
      "Epoch [18/50] Loss D: 0.49210768938064575, Loss G: 4.655936241149902\n",
      "Epoch [19/50] Loss D: 0.5593897104263306, Loss G: 3.621044874191284\n",
      "Epoch [20/50] Loss D: 0.5206172466278076, Loss G: 5.145358085632324\n",
      "Epoch [21/50] Loss D: 0.5804713368415833, Loss G: 3.1804885864257812\n",
      "Epoch [22/50] Loss D: 0.4466787278652191, Loss G: 3.7436158657073975\n",
      "Epoch [23/50] Loss D: 0.5870270729064941, Loss G: 3.8046860694885254\n",
      "Epoch [24/50] Loss D: 0.4723081886768341, Loss G: 3.334077835083008\n",
      "Epoch [25/50] Loss D: 0.5628971457481384, Loss G: 3.4579176902770996\n",
      "Epoch [26/50] Loss D: 0.5194125175476074, Loss G: 4.746631622314453\n",
      "Epoch [27/50] Loss D: 0.5086215734481812, Loss G: 3.1938769817352295\n",
      "Epoch [28/50] Loss D: 0.6632124185562134, Loss G: 2.683091640472412\n",
      "Epoch [29/50] Loss D: 0.5832833647727966, Loss G: 3.7542896270751953\n",
      "Epoch [30/50] Loss D: 0.5276833772659302, Loss G: 3.931727886199951\n",
      "Epoch [31/50] Loss D: 0.7238924503326416, Loss G: 3.574314832687378\n",
      "Epoch [32/50] Loss D: 0.6072787046432495, Loss G: 6.343924522399902\n",
      "Epoch [33/50] Loss D: 0.6235524415969849, Loss G: 2.586069345474243\n",
      "Epoch [34/50] Loss D: 0.6040534377098083, Loss G: 3.5713844299316406\n",
      "Epoch [35/50] Loss D: 0.6422495245933533, Loss G: 4.219895362854004\n",
      "Epoch [36/50] Loss D: 0.6513309478759766, Loss G: 2.0653436183929443\n",
      "Epoch [37/50] Loss D: 0.7901179790496826, Loss G: 3.787539482116699\n",
      "Epoch [38/50] Loss D: 0.6130860447883606, Loss G: 2.909235715866089\n",
      "Epoch [39/50] Loss D: 0.6258932948112488, Loss G: 2.924470901489258\n",
      "Epoch [40/50] Loss D: 0.7402262687683105, Loss G: 2.1783039569854736\n",
      "Epoch [41/50] Loss D: 0.8126014471054077, Loss G: 3.7981269359588623\n",
      "Epoch [42/50] Loss D: 0.77552729845047, Loss G: 2.022298812866211\n",
      "Epoch [43/50] Loss D: 0.6875549554824829, Loss G: 2.756779432296753\n",
      "Epoch [44/50] Loss D: 0.7417219877243042, Loss G: 2.9240903854370117\n",
      "Epoch [45/50] Loss D: 0.6829314231872559, Loss G: 2.4294357299804688\n",
      "Epoch [46/50] Loss D: 0.6520808339118958, Loss G: 3.9420993328094482\n",
      "Epoch [47/50] Loss D: 0.8835827112197876, Loss G: 2.3712220191955566\n",
      "Epoch [48/50] Loss D: 0.8176365494728088, Loss G: 2.555757522583008\n",
      "Epoch [49/50] Loss D: 0.8027340173721313, Loss G: 2.1866250038146973\n",
      "Epoch [50/50] Loss D: 0.8531374335289001, Loss G: 2.8299307823181152\n"
     ]
    }
   ],
   "source": [
    "# Start training\n",
    "for epoch in range(n_epochs):\n",
    "    for batch_idx, (real_data, _) in enumerate(train_loader):\n",
    "        real_data = real_data.view(-1, 784).to(device)  # Flatten the image\n",
    "        batch_size = real_data.shape[0]\n",
    "\n",
    "        ### Train the Discriminator ###\n",
    "        disc_optimizer.zero_grad()\n",
    "\n",
    "        # Compute loss on real data\n",
    "        real_preds = disc(real_data)\n",
    "        real_loss = criterion(real_preds, torch.ones(batch_size, 1).to(device) * real_labels)\n",
    "\n",
    "        # Generate fake data\n",
    "        noise = torch.randn(batch_size, z_dim).to(device)\n",
    "        fake_data = gen(noise)\n",
    "\n",
    "        # Compute loss on fake data\n",
    "        fake_preds = disc(fake_data.detach())\n",
    "        fake_loss = criterion(fake_preds, torch.zeros(batch_size, 1).to(device) * fake_labels)\n",
    "\n",
    "        # Combine losses and update Discriminator\n",
    "        disc_loss = real_loss + fake_loss\n",
    "        disc_loss.backward()\n",
    "        disc_optimizer.step()\n",
    "\n",
    "        ### Train the Generator ###\n",
    "        gen_optimizer.zero_grad()\n",
    "\n",
    "        # Generate fake data\n",
    "        noise = torch.randn(batch_size, z_dim).to(device)\n",
    "        fake_data = gen(noise)\n",
    "\n",
    "        # Compute loss on fake data with inverted labels\n",
    "        fake_preds = disc(fake_data)\n",
    "        gen_loss = criterion(fake_preds, torch.ones(batch_size, 1).to(device))\n",
    "\n",
    "        # Update Generator\n",
    "        gen_loss.backward()\n",
    "        gen_optimizer.step()\n",
    " \n",
    "    print(f\"Epoch [{epoch + 1}/{n_epochs}] Loss D: {disc_loss.item()}, Loss G: {gen_loss.item()}\")"
   ]
  },
  {
   "cell_type": "markdown",
   "id": "2e2b8e40bb4bc421",
   "metadata": {},
   "source": [
    "Now let's see some of the resulting images."
   ]
  },
  {
   "cell_type": "code",
   "execution_count": 9,
   "id": "4ba78933d1d69f87",
   "metadata": {},
   "outputs": [
    {
     "data": {
      "image/png": "[encoded data removed]",
      "text/plain": [
       "<Figure size 1000x1000 with 16 Axes>"
      ]
     },
     "metadata": {},
     "output_type": "display_data"
    }
   ],
   "source": [
    "import matplotlib.pyplot as plt\n",
    "\n",
    "# Generate some samples to evaluate\n",
    "with torch.no_grad():\n",
    "    noise = torch.randn(16, z_dim).to(device)\n",
    "    generated_data = gen(noise).view(-1, 28, 28).cpu().numpy()\n",
    "\n",
    "# Visualize the generated samples\n",
    "plt.figure(figsize=(10, 10))\n",
    "\n",
    "for i in range(16):\n",
    "    ax = plt.subplot(4, 4, i + 1)\n",
    "    plt.imshow(generated_data[i], cmap='gray')\n",
    "    plt.axis('off')\n",
    "\n",
    "plt.show()"
   ]
  },
  {
   "cell_type": "markdown",
   "id": "97ad0e73b217a359",
   "metadata": {},
   "source": [
    "This worked relatively well, I can recognize ones, threes, a four and a six. I would say a very good result for such a basic network!"
   ]
  },
  {
   "cell_type": "code",
   "execution_count": null,
   "id": "8e533223",
   "metadata": {},
   "outputs": [],
   "source": []
  }
 ],
 "metadata": {
  "kernelspec": {
   "display_name": "Python 3 (ipykernel)",
   "language": "python",
   "name": "python3"
  },
  "language_info": {
   "codemirror_mode": {
    "name": "ipython",
    "version": 3
   },
   "file_extension": ".py",
   "mimetype": "text/x-python",
   "name": "python",
   "nbconvert_exporter": "python",
   "pygments_lexer": "ipython3",
   "version": "3.9.17"
  }
 },
 "nbformat": 4,
 "nbformat_minor": 5
}
